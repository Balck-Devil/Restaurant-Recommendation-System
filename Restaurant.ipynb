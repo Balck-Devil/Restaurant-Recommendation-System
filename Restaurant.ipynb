{
 "cells": [
  {
   "cell_type": "code",
   "execution_count": 1,
   "metadata": {},
   "outputs": [],
   "source": [
    "import pandas as pd\r\n",
    "import numpy as np\r\n",
    "import seaborn as sns\r\n",
    "import matplotlib.pyplot as plt\r\n",
    "import warnings\r\n",
    "warnings.filterwarnings(\"ignore\")"
   ]
  },
  {
   "cell_type": "code",
   "execution_count": 2,
   "metadata": {},
   "outputs": [
    {
     "data": {
      "text/html": [
       "<div>\n",
       "<style scoped>\n",
       "    .dataframe tbody tr th:only-of-type {\n",
       "        vertical-align: middle;\n",
       "    }\n",
       "\n",
       "    .dataframe tbody tr th {\n",
       "        vertical-align: top;\n",
       "    }\n",
       "\n",
       "    .dataframe thead th {\n",
       "        text-align: right;\n",
       "    }\n",
       "</style>\n",
       "<table border=\"1\" class=\"dataframe\">\n",
       "  <thead>\n",
       "    <tr style=\"text-align: right;\">\n",
       "      <th></th>\n",
       "      <th>url</th>\n",
       "      <th>address</th>\n",
       "      <th>name</th>\n",
       "      <th>online_order</th>\n",
       "      <th>book_table</th>\n",
       "      <th>rate</th>\n",
       "      <th>votes</th>\n",
       "      <th>phone</th>\n",
       "      <th>location</th>\n",
       "      <th>rest_type</th>\n",
       "      <th>dish_liked</th>\n",
       "      <th>cuisines</th>\n",
       "      <th>approx_cost(for two people)</th>\n",
       "      <th>reviews_list</th>\n",
       "      <th>menu_item</th>\n",
       "      <th>listed_in(type)</th>\n",
       "      <th>listed_in(city)</th>\n",
       "    </tr>\n",
       "  </thead>\n",
       "  <tbody>\n",
       "    <tr>\n",
       "      <th>0</th>\n",
       "      <td>https://www.zomato.com/bangalore/jalsa-banasha...</td>\n",
       "      <td>942, 21st Main Road, 2nd Stage, Banashankari, ...</td>\n",
       "      <td>Jalsa</td>\n",
       "      <td>Yes</td>\n",
       "      <td>Yes</td>\n",
       "      <td>4.1/5</td>\n",
       "      <td>775</td>\n",
       "      <td>080 42297555\\r\\n+91 9743772233</td>\n",
       "      <td>Banashankari</td>\n",
       "      <td>Casual Dining</td>\n",
       "      <td>Pasta, Lunch Buffet, Masala Papad, Paneer Laja...</td>\n",
       "      <td>North Indian, Mughlai, Chinese</td>\n",
       "      <td>800</td>\n",
       "      <td>[('Rated 4.0', 'RATED\\n  A beautiful place to ...</td>\n",
       "      <td>[]</td>\n",
       "      <td>Buffet</td>\n",
       "      <td>Banashankari</td>\n",
       "    </tr>\n",
       "    <tr>\n",
       "      <th>1</th>\n",
       "      <td>https://www.zomato.com/bangalore/spice-elephan...</td>\n",
       "      <td>2nd Floor, 80 Feet Road, Near Big Bazaar, 6th ...</td>\n",
       "      <td>Spice Elephant</td>\n",
       "      <td>Yes</td>\n",
       "      <td>No</td>\n",
       "      <td>4.1/5</td>\n",
       "      <td>787</td>\n",
       "      <td>080 41714161</td>\n",
       "      <td>Banashankari</td>\n",
       "      <td>Casual Dining</td>\n",
       "      <td>Momos, Lunch Buffet, Chocolate Nirvana, Thai G...</td>\n",
       "      <td>Chinese, North Indian, Thai</td>\n",
       "      <td>800</td>\n",
       "      <td>[('Rated 4.0', 'RATED\\n  Had been here for din...</td>\n",
       "      <td>[]</td>\n",
       "      <td>Buffet</td>\n",
       "      <td>Banashankari</td>\n",
       "    </tr>\n",
       "    <tr>\n",
       "      <th>2</th>\n",
       "      <td>https://www.zomato.com/SanchurroBangalore?cont...</td>\n",
       "      <td>1112, Next to KIMS Medical College, 17th Cross...</td>\n",
       "      <td>San Churro Cafe</td>\n",
       "      <td>Yes</td>\n",
       "      <td>No</td>\n",
       "      <td>3.8/5</td>\n",
       "      <td>918</td>\n",
       "      <td>+91 9663487993</td>\n",
       "      <td>Banashankari</td>\n",
       "      <td>Cafe, Casual Dining</td>\n",
       "      <td>Churros, Cannelloni, Minestrone Soup, Hot Choc...</td>\n",
       "      <td>Cafe, Mexican, Italian</td>\n",
       "      <td>800</td>\n",
       "      <td>[('Rated 3.0', \"RATED\\n  Ambience is not that ...</td>\n",
       "      <td>[]</td>\n",
       "      <td>Buffet</td>\n",
       "      <td>Banashankari</td>\n",
       "    </tr>\n",
       "    <tr>\n",
       "      <th>3</th>\n",
       "      <td>https://www.zomato.com/bangalore/addhuri-udupi...</td>\n",
       "      <td>1st Floor, Annakuteera, 3rd Stage, Banashankar...</td>\n",
       "      <td>Addhuri Udupi Bhojana</td>\n",
       "      <td>No</td>\n",
       "      <td>No</td>\n",
       "      <td>3.7/5</td>\n",
       "      <td>88</td>\n",
       "      <td>+91 9620009302</td>\n",
       "      <td>Banashankari</td>\n",
       "      <td>Quick Bites</td>\n",
       "      <td>Masala Dosa</td>\n",
       "      <td>South Indian, North Indian</td>\n",
       "      <td>300</td>\n",
       "      <td>[('Rated 4.0', \"RATED\\n  Great food and proper...</td>\n",
       "      <td>[]</td>\n",
       "      <td>Buffet</td>\n",
       "      <td>Banashankari</td>\n",
       "    </tr>\n",
       "    <tr>\n",
       "      <th>4</th>\n",
       "      <td>https://www.zomato.com/bangalore/grand-village...</td>\n",
       "      <td>10, 3rd Floor, Lakshmi Associates, Gandhi Baza...</td>\n",
       "      <td>Grand Village</td>\n",
       "      <td>No</td>\n",
       "      <td>No</td>\n",
       "      <td>3.8/5</td>\n",
       "      <td>166</td>\n",
       "      <td>+91 8026612447\\r\\n+91 9901210005</td>\n",
       "      <td>Basavanagudi</td>\n",
       "      <td>Casual Dining</td>\n",
       "      <td>Panipuri, Gol Gappe</td>\n",
       "      <td>North Indian, Rajasthani</td>\n",
       "      <td>600</td>\n",
       "      <td>[('Rated 4.0', 'RATED\\n  Very good restaurant ...</td>\n",
       "      <td>[]</td>\n",
       "      <td>Buffet</td>\n",
       "      <td>Banashankari</td>\n",
       "    </tr>\n",
       "  </tbody>\n",
       "</table>\n",
       "</div>"
      ],
      "text/plain": [
       "                                                 url  \\\n",
       "0  https://www.zomato.com/bangalore/jalsa-banasha...   \n",
       "1  https://www.zomato.com/bangalore/spice-elephan...   \n",
       "2  https://www.zomato.com/SanchurroBangalore?cont...   \n",
       "3  https://www.zomato.com/bangalore/addhuri-udupi...   \n",
       "4  https://www.zomato.com/bangalore/grand-village...   \n",
       "\n",
       "                                             address                   name  \\\n",
       "0  942, 21st Main Road, 2nd Stage, Banashankari, ...                  Jalsa   \n",
       "1  2nd Floor, 80 Feet Road, Near Big Bazaar, 6th ...         Spice Elephant   \n",
       "2  1112, Next to KIMS Medical College, 17th Cross...        San Churro Cafe   \n",
       "3  1st Floor, Annakuteera, 3rd Stage, Banashankar...  Addhuri Udupi Bhojana   \n",
       "4  10, 3rd Floor, Lakshmi Associates, Gandhi Baza...          Grand Village   \n",
       "\n",
       "  online_order book_table   rate  votes                             phone  \\\n",
       "0          Yes        Yes  4.1/5    775    080 42297555\\r\\n+91 9743772233   \n",
       "1          Yes         No  4.1/5    787                      080 41714161   \n",
       "2          Yes         No  3.8/5    918                    +91 9663487993   \n",
       "3           No         No  3.7/5     88                    +91 9620009302   \n",
       "4           No         No  3.8/5    166  +91 8026612447\\r\\n+91 9901210005   \n",
       "\n",
       "       location            rest_type  \\\n",
       "0  Banashankari        Casual Dining   \n",
       "1  Banashankari        Casual Dining   \n",
       "2  Banashankari  Cafe, Casual Dining   \n",
       "3  Banashankari          Quick Bites   \n",
       "4  Basavanagudi        Casual Dining   \n",
       "\n",
       "                                          dish_liked  \\\n",
       "0  Pasta, Lunch Buffet, Masala Papad, Paneer Laja...   \n",
       "1  Momos, Lunch Buffet, Chocolate Nirvana, Thai G...   \n",
       "2  Churros, Cannelloni, Minestrone Soup, Hot Choc...   \n",
       "3                                        Masala Dosa   \n",
       "4                                Panipuri, Gol Gappe   \n",
       "\n",
       "                         cuisines approx_cost(for two people)  \\\n",
       "0  North Indian, Mughlai, Chinese                         800   \n",
       "1     Chinese, North Indian, Thai                         800   \n",
       "2          Cafe, Mexican, Italian                         800   \n",
       "3      South Indian, North Indian                         300   \n",
       "4        North Indian, Rajasthani                         600   \n",
       "\n",
       "                                        reviews_list menu_item  \\\n",
       "0  [('Rated 4.0', 'RATED\\n  A beautiful place to ...        []   \n",
       "1  [('Rated 4.0', 'RATED\\n  Had been here for din...        []   \n",
       "2  [('Rated 3.0', \"RATED\\n  Ambience is not that ...        []   \n",
       "3  [('Rated 4.0', \"RATED\\n  Great food and proper...        []   \n",
       "4  [('Rated 4.0', 'RATED\\n  Very good restaurant ...        []   \n",
       "\n",
       "  listed_in(type) listed_in(city)  \n",
       "0          Buffet    Banashankari  \n",
       "1          Buffet    Banashankari  \n",
       "2          Buffet    Banashankari  \n",
       "3          Buffet    Banashankari  \n",
       "4          Buffet    Banashankari  "
      ]
     },
     "execution_count": 2,
     "metadata": {},
     "output_type": "execute_result"
    }
   ],
   "source": [
    "zomato_real = pd.read_csv(r\"D:\\PFP\\Projects\\Restaurant Recommendation System\\zomato.csv\")\r\n",
    "zomato_real.head()\r\n"
   ]
  },
  {
   "cell_type": "code",
   "execution_count": 3,
   "metadata": {},
   "outputs": [
    {
     "data": {
      "text/plain": [
       "(51717, 17)"
      ]
     },
     "execution_count": 3,
     "metadata": {},
     "output_type": "execute_result"
    }
   ],
   "source": [
    "zomato_real.shape"
   ]
  },
  {
   "cell_type": "code",
   "execution_count": 4,
   "metadata": {},
   "outputs": [
    {
     "data": {
      "text/plain": [
       "Index(['url', 'address', 'name', 'online_order', 'book_table', 'rate', 'votes',\n",
       "       'phone', 'location', 'rest_type', 'dish_liked', 'cuisines',\n",
       "       'approx_cost(for two people)', 'reviews_list', 'menu_item',\n",
       "       'listed_in(type)', 'listed_in(city)'],\n",
       "      dtype='object')"
      ]
     },
     "execution_count": 4,
     "metadata": {},
     "output_type": "execute_result"
    }
   ],
   "source": [
    "zomato_real.columns"
   ]
  },
  {
   "cell_type": "code",
   "execution_count": 5,
   "metadata": {},
   "outputs": [],
   "source": [
    "zomato = zomato_real.drop(columns=[\"url\",\"phone\",\"dish_liked\"])"
   ]
  },
  {
   "cell_type": "code",
   "execution_count": 6,
   "metadata": {},
   "outputs": [
    {
     "data": {
      "text/plain": [
       "address                           0\n",
       "name                              0\n",
       "online_order                      0\n",
       "book_table                        0\n",
       "rate                           7775\n",
       "votes                             0\n",
       "location                         21\n",
       "rest_type                       227\n",
       "cuisines                         45\n",
       "approx_cost(for two people)     346\n",
       "reviews_list                      0\n",
       "menu_item                         0\n",
       "listed_in(type)                   0\n",
       "listed_in(city)                   0\n",
       "dtype: int64"
      ]
     },
     "execution_count": 6,
     "metadata": {},
     "output_type": "execute_result"
    }
   ],
   "source": [
    "zomato.isnull().sum()"
   ]
  },
  {
   "cell_type": "code",
   "execution_count": 7,
   "metadata": {},
   "outputs": [
    {
     "data": {
      "text/plain": [
       "address                        0\n",
       "name                           0\n",
       "online_order                   0\n",
       "book_table                     0\n",
       "rate                           0\n",
       "votes                          0\n",
       "location                       0\n",
       "rest_type                      0\n",
       "cuisines                       0\n",
       "approx_cost(for two people)    0\n",
       "reviews_list                   0\n",
       "menu_item                      0\n",
       "listed_in(type)                0\n",
       "listed_in(city)                0\n",
       "dtype: int64"
      ]
     },
     "execution_count": 7,
     "metadata": {},
     "output_type": "execute_result"
    }
   ],
   "source": [
    "zomato.dropna(how=\"any\",inplace=True)\r\n",
    "zomato.isnull().sum()"
   ]
  },
  {
   "cell_type": "code",
   "execution_count": 8,
   "metadata": {},
   "outputs": [
    {
     "data": {
      "text/plain": [
       "34"
      ]
     },
     "execution_count": 8,
     "metadata": {},
     "output_type": "execute_result"
    }
   ],
   "source": [
    "zomato.duplicated().sum()"
   ]
  },
  {
   "cell_type": "code",
   "execution_count": 9,
   "metadata": {},
   "outputs": [
    {
     "data": {
      "text/plain": [
       "0"
      ]
     },
     "execution_count": 9,
     "metadata": {},
     "output_type": "execute_result"
    }
   ],
   "source": [
    "zomato.drop_duplicates(inplace=True)\r\n",
    "zomato.duplicated().sum()"
   ]
  },
  {
   "cell_type": "code",
   "execution_count": 10,
   "metadata": {},
   "outputs": [
    {
     "data": {
      "text/plain": [
       "Index(['address', 'name', 'online_order', 'book_table', 'rate', 'votes',\n",
       "       'location', 'rest_type', 'cuisines', 'cost', 'reviews_list',\n",
       "       'menu_item', 'type', 'city'],\n",
       "      dtype='object')"
      ]
     },
     "execution_count": 10,
     "metadata": {},
     "output_type": "execute_result"
    }
   ],
   "source": [
    "zomato.rename(columns={\"approx_cost(for two people)\": \"cost\", \"listed_in(type)\": \"type\", \"listed_in(city)\" : \"city\"},inplace=True)\r\n",
    "zomato.columns\r\n"
   ]
  },
  {
   "cell_type": "code",
   "execution_count": 11,
   "metadata": {},
   "outputs": [
    {
     "data": {
      "text/plain": [
       "address         object\n",
       "name            object\n",
       "online_order    object\n",
       "book_table      object\n",
       "rate            object\n",
       "votes            int64\n",
       "location        object\n",
       "rest_type       object\n",
       "cuisines        object\n",
       "cost            object\n",
       "reviews_list    object\n",
       "menu_item       object\n",
       "type            object\n",
       "city            object\n",
       "dtype: object"
      ]
     },
     "execution_count": 11,
     "metadata": {},
     "output_type": "execute_result"
    }
   ],
   "source": [
    "zomato.dtypes"
   ]
  },
  {
   "cell_type": "code",
   "execution_count": 12,
   "metadata": {},
   "outputs": [
    {
     "data": {
      "text/plain": [
       "0         800.0\n",
       "1         800.0\n",
       "2         800.0\n",
       "3         300.0\n",
       "4         600.0\n",
       "          ...  \n",
       "51709     800.0\n",
       "51711     800.0\n",
       "51712    1500.0\n",
       "51715    2500.0\n",
       "51716    1500.0\n",
       "Name: cost, Length: 43499, dtype: float64"
      ]
     },
     "execution_count": 12,
     "metadata": {},
     "output_type": "execute_result"
    }
   ],
   "source": [
    "zomato[\"cost\"] = zomato[\"cost\"].astype(str)\r\n",
    "zomato[\"cost\"] = zomato[\"cost\"].apply(lambda x: x.replace(\",\",\"\"))\r\n",
    "zomato[\"cost\"] = zomato[\"cost\"].astype(float)\r\n",
    "zomato[\"cost\"]"
   ]
  },
  {
   "cell_type": "code",
   "execution_count": 13,
   "metadata": {},
   "outputs": [
    {
     "data": {
      "text/plain": [
       "array(['4.1/5', '3.8/5', '3.7/5', '3.6/5', '4.6/5', '4.0/5', '4.2/5',\n",
       "       '3.9/5', '3.1/5', '3.0/5', '3.2/5', '3.3/5', '2.8/5', '4.4/5',\n",
       "       '4.3/5', 'NEW', '2.9/5', '3.5/5', '2.6/5', '3.8 /5', '3.4/5',\n",
       "       '4.5/5', '2.5/5', '2.7/5', '4.7/5', '2.4/5', '2.2/5', '2.3/5',\n",
       "       '3.4 /5', '-', '3.6 /5', '4.8/5', '3.9 /5', '4.2 /5', '4.0 /5',\n",
       "       '4.1 /5', '3.7 /5', '3.1 /5', '2.9 /5', '3.3 /5', '2.8 /5',\n",
       "       '3.5 /5', '2.7 /5', '2.5 /5', '3.2 /5', '2.6 /5', '4.5 /5',\n",
       "       '4.3 /5', '4.4 /5', '4.9/5', '2.1/5', '2.0/5', '1.8/5', '4.6 /5',\n",
       "       '4.9 /5', '3.0 /5', '4.8 /5', '2.3 /5', '4.7 /5', '2.4 /5',\n",
       "       '2.1 /5', '2.2 /5', '2.0 /5', '1.8 /5'], dtype=object)"
      ]
     },
     "execution_count": 13,
     "metadata": {},
     "output_type": "execute_result"
    }
   ],
   "source": [
    "zomato.rate.unique()"
   ]
  },
  {
   "cell_type": "code",
   "execution_count": 14,
   "metadata": {},
   "outputs": [
    {
     "data": {
      "text/plain": [
       "array(['4.1/5', '3.8/5', '3.7/5', '3.6/5', '4.6/5', '4.0/5', '4.2/5',\n",
       "       '3.9/5', '3.1/5', '3.0/5', '3.2/5', '3.3/5', '2.8/5', '4.4/5',\n",
       "       '4.3/5', '2.9/5', '3.5/5', '2.6/5', '3.8 /5', '3.4/5', '4.5/5',\n",
       "       '2.5/5', '2.7/5', '4.7/5', '2.4/5', '2.2/5', '2.3/5', '3.4 /5',\n",
       "       '3.6 /5', '4.8/5', '3.9 /5', '4.2 /5', '4.0 /5', '4.1 /5',\n",
       "       '3.7 /5', '3.1 /5', '2.9 /5', '3.3 /5', '2.8 /5', '3.5 /5',\n",
       "       '2.7 /5', '2.5 /5', '3.2 /5', '2.6 /5', '4.5 /5', '4.3 /5',\n",
       "       '4.4 /5', '4.9/5', '2.1/5', '2.0/5', '1.8/5', '4.6 /5', '4.9 /5',\n",
       "       '3.0 /5', '4.8 /5', '2.3 /5', '4.7 /5', '2.4 /5', '2.1 /5',\n",
       "       '2.2 /5', '2.0 /5', '1.8 /5'], dtype=object)"
      ]
     },
     "execution_count": 14,
     "metadata": {},
     "output_type": "execute_result"
    }
   ],
   "source": [
    "zomato = zomato.loc[zomato.rate != \"NEW\"]\r\n",
    "zomato = zomato.loc[zomato.rate != \"-\"].reset_index(drop=True)\r\n",
    "zomato[\"rate\"].unique()"
   ]
  },
  {
   "cell_type": "code",
   "execution_count": 15,
   "metadata": {},
   "outputs": [
    {
     "data": {
      "text/plain": [
       "array([4.1, 3.8, 3.7, 3.6, 4.6, 4. , 4.2, 3.9, 3.1, 3. , 3.2, 3.3, 2.8,\n",
       "       4.4, 4.3, 2.9, 3.5, 2.6, 3.4, 4.5, 2.5, 2.7, 4.7, 2.4, 2.2, 2.3,\n",
       "       4.8, 4.9, 2.1, 2. , 1.8])"
      ]
     },
     "execution_count": 15,
     "metadata": {},
     "output_type": "execute_result"
    }
   ],
   "source": [
    "zomato[\"rate\"] = zomato[\"rate\"].astype(str).apply(lambda x: x.replace(\"/5\",\"\") if type(x) == np.str else x).str.strip().astype(\"float\")\r\n",
    "zomato[\"rate\"].unique()"
   ]
  },
  {
   "cell_type": "code",
   "execution_count": 16,
   "metadata": {},
   "outputs": [],
   "source": [
    "zomato.name = zomato.name.apply(lambda x: x.title())"
   ]
  },
  {
   "cell_type": "code",
   "execution_count": 17,
   "metadata": {},
   "outputs": [
    {
     "data": {
      "text/plain": [
       "Index(['address', 'name', 'online_order', 'book_table', 'rate', 'votes',\n",
       "       'location', 'rest_type', 'cuisines', 'cost', 'reviews_list',\n",
       "       'menu_item', 'type', 'city'],\n",
       "      dtype='object')"
      ]
     },
     "execution_count": 17,
     "metadata": {},
     "output_type": "execute_result"
    }
   ],
   "source": [
    "zomato.columns"
   ]
  },
  {
   "cell_type": "code",
   "execution_count": 18,
   "metadata": {},
   "outputs": [],
   "source": [
    "zomato.online_order.replace((\"Yes\",\"No\"),(\"True\",\"False\"),inplace=True)\r\n",
    "zomato.book_table.replace((\"Yes\", \"No\"), (\"True\", \"False\"), inplace=True)\r\n"
   ]
  },
  {
   "cell_type": "code",
   "execution_count": 19,
   "metadata": {},
   "outputs": [],
   "source": [
    "restaurant = list(zomato.name.unique())\r\n",
    "zomato[\"Mean Rating\"] = 0"
   ]
  },
  {
   "cell_type": "code",
   "execution_count": 20,
   "metadata": {},
   "outputs": [],
   "source": [
    "for i in range(len(restaurant)):\r\n",
    "    zomato[\"Mean Rating\"][zomato[\"name\"] == restaurant[i]] = zomato[\"rate\"][zomato[\"name\"] == restaurant[i]].mean()\r\n"
   ]
  },
  {
   "cell_type": "code",
   "execution_count": 21,
   "metadata": {},
   "outputs": [],
   "source": [
    "from sklearn.preprocessing import MinMaxScaler\r\n",
    "\r\n",
    "scaler = MinMaxScaler(feature_range=(1,5))\r\n",
    "\r\n",
    "zomato[[\"Mean Rating\"]] = scaler.fit_transform(zomato[[\"Mean Rating\"]]).round(2)\r\n"
   ]
  },
  {
   "cell_type": "code",
   "execution_count": 22,
   "metadata": {},
   "outputs": [],
   "source": [
    "zomato[\"reviews_list\"] = zomato[\"reviews_list\"].str.lower()\r\n"
   ]
  },
  {
   "cell_type": "code",
   "execution_count": 23,
   "metadata": {},
   "outputs": [],
   "source": [
    "import string\r\n",
    "from nltk.corpus import stopwords\r\n",
    "import re\r\n",
    "\r\n",
    "def cleaning_punctuation(text):\r\n",
    "    return text.translate(str.maketrans(\"\",\"\",string.punctuation))\r\n",
    "\r\n",
    "zomato[\"reviews_list\"] = zomato[\"reviews_list\"].apply(lambda x: cleaning_punctuation(x))\r\n",
    "\r\n",
    "STOPWORDS = set(stopwords.words('english'))\r\n",
    "def remove_stopwords(text):\r\n",
    "    return \" \".join([word for word in str(text).split() if word not in STOPWORDS])\r\n",
    "\r\n",
    "zomato[\"reviews_list\"] = zomato[\"reviews_list\"].apply(lambda x: remove_stopwords(x))\r\n",
    "\r\n",
    "def cleaning_urls(text):\r\n",
    "    return re.compile(r\"https?://\\S+|www\\.\\S+\").sub(r\"\",text)\r\n",
    "\r\n",
    "zomato[\"reviews_list\"] = zomato[\"reviews_list\"].apply(lambda x: cleaning_urls(x))\r\n"
   ]
  },
  {
   "cell_type": "code",
   "execution_count": 24,
   "metadata": {},
   "outputs": [
    {
     "data": {
      "text/plain": [
       "Index(['address', 'name', 'online_order', 'book_table', 'rate', 'votes',\n",
       "       'location', 'rest_type', 'cuisines', 'cost', 'reviews_list',\n",
       "       'menu_item', 'type', 'city', 'Mean Rating'],\n",
       "      dtype='object')"
      ]
     },
     "execution_count": 24,
     "metadata": {},
     "output_type": "execute_result"
    }
   ],
   "source": [
    "zomato.columns"
   ]
  },
  {
   "cell_type": "code",
   "execution_count": 25,
   "metadata": {},
   "outputs": [
    {
     "data": {
      "text/html": [
       "<div>\n",
       "<style scoped>\n",
       "    .dataframe tbody tr th:only-of-type {\n",
       "        vertical-align: middle;\n",
       "    }\n",
       "\n",
       "    .dataframe tbody tr th {\n",
       "        vertical-align: top;\n",
       "    }\n",
       "\n",
       "    .dataframe thead th {\n",
       "        text-align: right;\n",
       "    }\n",
       "</style>\n",
       "<table border=\"1\" class=\"dataframe\">\n",
       "  <thead>\n",
       "    <tr style=\"text-align: right;\">\n",
       "      <th></th>\n",
       "      <th>reviews_list</th>\n",
       "      <th>cuisines</th>\n",
       "    </tr>\n",
       "  </thead>\n",
       "  <tbody>\n",
       "    <tr>\n",
       "      <th>33557</th>\n",
       "      <td>rated 10 ratedn food 25nnambience 35nnservice ...</td>\n",
       "      <td>Italian, North Indian</td>\n",
       "    </tr>\n",
       "    <tr>\n",
       "      <th>20597</th>\n",
       "      <td>rated 40 ratedn sole reason visiting place egg...</td>\n",
       "      <td>Continental, Italian, Mexican, Asian</td>\n",
       "    </tr>\n",
       "    <tr>\n",
       "      <th>23779</th>\n",
       "      <td>rated 40 ratedn good place chinese food servic...</td>\n",
       "      <td>Chinese, Momos</td>\n",
       "    </tr>\n",
       "    <tr>\n",
       "      <th>12842</th>\n",
       "      <td>rated 40 ratedn absolute delight try shakes ou...</td>\n",
       "      <td>Beverages, Fast Food</td>\n",
       "    </tr>\n",
       "    <tr>\n",
       "      <th>10618</th>\n",
       "      <td>rated 40 ratedn love interior quirky quotes wr...</td>\n",
       "      <td>Continental, Chinese, North Indian, Finger Food</td>\n",
       "    </tr>\n",
       "  </tbody>\n",
       "</table>\n",
       "</div>"
      ],
      "text/plain": [
       "                                            reviews_list  \\\n",
       "33557  rated 10 ratedn food 25nnambience 35nnservice ...   \n",
       "20597  rated 40 ratedn sole reason visiting place egg...   \n",
       "23779  rated 40 ratedn good place chinese food servic...   \n",
       "12842  rated 40 ratedn absolute delight try shakes ou...   \n",
       "10618  rated 40 ratedn love interior quirky quotes wr...   \n",
       "\n",
       "                                              cuisines  \n",
       "33557                            Italian, North Indian  \n",
       "20597             Continental, Italian, Mexican, Asian  \n",
       "23779                                   Chinese, Momos  \n",
       "12842                             Beverages, Fast Food  \n",
       "10618  Continental, Chinese, North Indian, Finger Food  "
      ]
     },
     "execution_count": 25,
     "metadata": {},
     "output_type": "execute_result"
    }
   ],
   "source": [
    "zomato[[\"reviews_list\", \"cuisines\"]].sample(5)\r\n"
   ]
  },
  {
   "cell_type": "code",
   "execution_count": 26,
   "metadata": {},
   "outputs": [],
   "source": [
    "zomato = zomato.drop(columns=[\"address\", \"rest_type\", \"menu_item\", \"type\", \"votes\"],axis=1)\r\n"
   ]
  },
  {
   "cell_type": "code",
   "execution_count": 27,
   "metadata": {},
   "outputs": [
    {
     "data": {
      "text/html": [
       "<div>\n",
       "<style scoped>\n",
       "    .dataframe tbody tr th:only-of-type {\n",
       "        vertical-align: middle;\n",
       "    }\n",
       "\n",
       "    .dataframe tbody tr th {\n",
       "        vertical-align: top;\n",
       "    }\n",
       "\n",
       "    .dataframe thead th {\n",
       "        text-align: right;\n",
       "    }\n",
       "</style>\n",
       "<table border=\"1\" class=\"dataframe\">\n",
       "  <thead>\n",
       "    <tr style=\"text-align: right;\">\n",
       "      <th></th>\n",
       "      <th>name</th>\n",
       "      <th>online_order</th>\n",
       "      <th>book_table</th>\n",
       "      <th>rate</th>\n",
       "      <th>location</th>\n",
       "      <th>cuisines</th>\n",
       "      <th>cost</th>\n",
       "      <th>reviews_list</th>\n",
       "      <th>city</th>\n",
       "      <th>Mean Rating</th>\n",
       "    </tr>\n",
       "  </thead>\n",
       "  <tbody>\n",
       "    <tr>\n",
       "      <th>0</th>\n",
       "      <td>Jalsa</td>\n",
       "      <td>True</td>\n",
       "      <td>True</td>\n",
       "      <td>4.1</td>\n",
       "      <td>Banashankari</td>\n",
       "      <td>North Indian, Mughlai, Chinese</td>\n",
       "      <td>800.0</td>\n",
       "      <td>rated 40 ratedn beautiful place dine inthe int...</td>\n",
       "      <td>Banashankari</td>\n",
       "      <td>3.99</td>\n",
       "    </tr>\n",
       "    <tr>\n",
       "      <th>1</th>\n",
       "      <td>Spice Elephant</td>\n",
       "      <td>True</td>\n",
       "      <td>False</td>\n",
       "      <td>4.1</td>\n",
       "      <td>Banashankari</td>\n",
       "      <td>Chinese, North Indian, Thai</td>\n",
       "      <td>800.0</td>\n",
       "      <td>rated 40 ratedn dinner family turned good choo...</td>\n",
       "      <td>Banashankari</td>\n",
       "      <td>3.97</td>\n",
       "    </tr>\n",
       "    <tr>\n",
       "      <th>2</th>\n",
       "      <td>San Churro Cafe</td>\n",
       "      <td>True</td>\n",
       "      <td>False</td>\n",
       "      <td>3.8</td>\n",
       "      <td>Banashankari</td>\n",
       "      <td>Cafe, Mexican, Italian</td>\n",
       "      <td>800.0</td>\n",
       "      <td>rated 30 ratedn ambience good enough pocket fr...</td>\n",
       "      <td>Banashankari</td>\n",
       "      <td>3.58</td>\n",
       "    </tr>\n",
       "    <tr>\n",
       "      <th>3</th>\n",
       "      <td>Addhuri Udupi Bhojana</td>\n",
       "      <td>False</td>\n",
       "      <td>False</td>\n",
       "      <td>3.7</td>\n",
       "      <td>Banashankari</td>\n",
       "      <td>South Indian, North Indian</td>\n",
       "      <td>300.0</td>\n",
       "      <td>rated 40 ratedn great food proper karnataka st...</td>\n",
       "      <td>Banashankari</td>\n",
       "      <td>3.45</td>\n",
       "    </tr>\n",
       "    <tr>\n",
       "      <th>4</th>\n",
       "      <td>Grand Village</td>\n",
       "      <td>False</td>\n",
       "      <td>False</td>\n",
       "      <td>3.8</td>\n",
       "      <td>Basavanagudi</td>\n",
       "      <td>North Indian, Rajasthani</td>\n",
       "      <td>600.0</td>\n",
       "      <td>rated 40 ratedn good restaurant neighbourhood ...</td>\n",
       "      <td>Banashankari</td>\n",
       "      <td>3.58</td>\n",
       "    </tr>\n",
       "  </tbody>\n",
       "</table>\n",
       "</div>"
      ],
      "text/plain": [
       "                    name online_order book_table  rate      location  \\\n",
       "0                  Jalsa         True       True   4.1  Banashankari   \n",
       "1         Spice Elephant         True      False   4.1  Banashankari   \n",
       "2        San Churro Cafe         True      False   3.8  Banashankari   \n",
       "3  Addhuri Udupi Bhojana        False      False   3.7  Banashankari   \n",
       "4          Grand Village        False      False   3.8  Basavanagudi   \n",
       "\n",
       "                         cuisines   cost  \\\n",
       "0  North Indian, Mughlai, Chinese  800.0   \n",
       "1     Chinese, North Indian, Thai  800.0   \n",
       "2          Cafe, Mexican, Italian  800.0   \n",
       "3      South Indian, North Indian  300.0   \n",
       "4        North Indian, Rajasthani  600.0   \n",
       "\n",
       "                                        reviews_list          city  \\\n",
       "0  rated 40 ratedn beautiful place dine inthe int...  Banashankari   \n",
       "1  rated 40 ratedn dinner family turned good choo...  Banashankari   \n",
       "2  rated 30 ratedn ambience good enough pocket fr...  Banashankari   \n",
       "3  rated 40 ratedn great food proper karnataka st...  Banashankari   \n",
       "4  rated 40 ratedn good restaurant neighbourhood ...  Banashankari   \n",
       "\n",
       "   Mean Rating  \n",
       "0         3.99  \n",
       "1         3.97  \n",
       "2         3.58  \n",
       "3         3.45  \n",
       "4         3.58  "
      ]
     },
     "execution_count": 27,
     "metadata": {},
     "output_type": "execute_result"
    }
   ],
   "source": [
    "zomato.head()"
   ]
  },
  {
   "cell_type": "code",
   "execution_count": 28,
   "metadata": {},
   "outputs": [
    {
     "data": {
      "text/plain": [
       "(41237, 10)"
      ]
     },
     "execution_count": 28,
     "metadata": {},
     "output_type": "execute_result"
    }
   ],
   "source": [
    "zomato.shape"
   ]
  },
  {
   "cell_type": "code",
   "execution_count": 29,
   "metadata": {},
   "outputs": [],
   "source": [
    "df_percent = zomato.sample(frac=0.4) #randomly choosing 40% of data"
   ]
  },
  {
   "cell_type": "code",
   "execution_count": 30,
   "metadata": {},
   "outputs": [
    {
     "data": {
      "text/html": [
       "<div>\n",
       "<style scoped>\n",
       "    .dataframe tbody tr th:only-of-type {\n",
       "        vertical-align: middle;\n",
       "    }\n",
       "\n",
       "    .dataframe tbody tr th {\n",
       "        vertical-align: top;\n",
       "    }\n",
       "\n",
       "    .dataframe thead th {\n",
       "        text-align: right;\n",
       "    }\n",
       "</style>\n",
       "<table border=\"1\" class=\"dataframe\">\n",
       "  <thead>\n",
       "    <tr style=\"text-align: right;\">\n",
       "      <th></th>\n",
       "      <th>name</th>\n",
       "      <th>online_order</th>\n",
       "      <th>book_table</th>\n",
       "      <th>rate</th>\n",
       "      <th>location</th>\n",
       "      <th>cuisines</th>\n",
       "      <th>cost</th>\n",
       "      <th>reviews_list</th>\n",
       "      <th>city</th>\n",
       "      <th>Mean Rating</th>\n",
       "    </tr>\n",
       "  </thead>\n",
       "  <tbody>\n",
       "    <tr>\n",
       "      <th>18144</th>\n",
       "      <td>Hearts Unlock Cafe</td>\n",
       "      <td>False</td>\n",
       "      <td>False</td>\n",
       "      <td>3.2</td>\n",
       "      <td>BTM</td>\n",
       "      <td>Cafe, Healthy Food</td>\n",
       "      <td>500.0</td>\n",
       "      <td>rated 25 ratedn nice place hookah peaceful go ...</td>\n",
       "      <td>JP Nagar</td>\n",
       "      <td>2.80</td>\n",
       "    </tr>\n",
       "    <tr>\n",
       "      <th>11399</th>\n",
       "      <td>Basveshwara Khaanavali</td>\n",
       "      <td>False</td>\n",
       "      <td>False</td>\n",
       "      <td>3.5</td>\n",
       "      <td>Electronic City</td>\n",
       "      <td>South Indian</td>\n",
       "      <td>150.0</td>\n",
       "      <td>rated 40 ratedn wanna taste jowar roti masala ...</td>\n",
       "      <td>Electronic City</td>\n",
       "      <td>3.19</td>\n",
       "    </tr>\n",
       "    <tr>\n",
       "      <th>31506</th>\n",
       "      <td>The Banana Kick</td>\n",
       "      <td>True</td>\n",
       "      <td>False</td>\n",
       "      <td>3.3</td>\n",
       "      <td>New BEL Road</td>\n",
       "      <td>Cafe, Beverages</td>\n",
       "      <td>600.0</td>\n",
       "      <td>rated 10 ratedn food tastelessnot place visit ...</td>\n",
       "      <td>Malleshwaram</td>\n",
       "      <td>2.94</td>\n",
       "    </tr>\n",
       "    <tr>\n",
       "      <th>28424</th>\n",
       "      <td>Tomago Roast</td>\n",
       "      <td>True</td>\n",
       "      <td>False</td>\n",
       "      <td>3.5</td>\n",
       "      <td>BTM</td>\n",
       "      <td>Fast Food, Beverages</td>\n",
       "      <td>400.0</td>\n",
       "      <td>rated 50 ratedn first change ordered food rest...</td>\n",
       "      <td>Koramangala 7th Block</td>\n",
       "      <td>3.19</td>\n",
       "    </tr>\n",
       "    <tr>\n",
       "      <th>28537</th>\n",
       "      <td>Brewz Coffee</td>\n",
       "      <td>True</td>\n",
       "      <td>False</td>\n",
       "      <td>3.0</td>\n",
       "      <td>BTM</td>\n",
       "      <td>Cafe</td>\n",
       "      <td>650.0</td>\n",
       "      <td>rated 40 ratedn brewz coffee afternoon lovely ...</td>\n",
       "      <td>Koramangala 7th Block</td>\n",
       "      <td>2.59</td>\n",
       "    </tr>\n",
       "    <tr>\n",
       "      <th>...</th>\n",
       "      <td>...</td>\n",
       "      <td>...</td>\n",
       "      <td>...</td>\n",
       "      <td>...</td>\n",
       "      <td>...</td>\n",
       "      <td>...</td>\n",
       "      <td>...</td>\n",
       "      <td>...</td>\n",
       "      <td>...</td>\n",
       "      <td>...</td>\n",
       "    </tr>\n",
       "    <tr>\n",
       "      <th>16208</th>\n",
       "      <td>Royal Paris</td>\n",
       "      <td>True</td>\n",
       "      <td>False</td>\n",
       "      <td>3.9</td>\n",
       "      <td>BTM</td>\n",
       "      <td>North Indian, Arabian, Chinese</td>\n",
       "      <td>1000.0</td>\n",
       "      <td>rated 40 ratedn located convenient street amid...</td>\n",
       "      <td>Jayanagar</td>\n",
       "      <td>3.64</td>\n",
       "    </tr>\n",
       "    <tr>\n",
       "      <th>37202</th>\n",
       "      <td>O.G. Variar &amp; Sons</td>\n",
       "      <td>False</td>\n",
       "      <td>False</td>\n",
       "      <td>4.8</td>\n",
       "      <td>Rajajinagar</td>\n",
       "      <td>Bakery, Desserts</td>\n",
       "      <td>200.0</td>\n",
       "      <td>rated 50 ratedn place legacy moved delhi banga...</td>\n",
       "      <td>Rajajinagar</td>\n",
       "      <td>4.87</td>\n",
       "    </tr>\n",
       "    <tr>\n",
       "      <th>33938</th>\n",
       "      <td>Ayda Persian Kitchen</td>\n",
       "      <td>True</td>\n",
       "      <td>False</td>\n",
       "      <td>3.9</td>\n",
       "      <td>Church Street</td>\n",
       "      <td>North Indian, Iranian</td>\n",
       "      <td>950.0</td>\n",
       "      <td>rated 30 ratedn ambience decent persian one wo...</td>\n",
       "      <td>MG Road</td>\n",
       "      <td>3.65</td>\n",
       "    </tr>\n",
       "    <tr>\n",
       "      <th>23693</th>\n",
       "      <td>Aliensip</td>\n",
       "      <td>True</td>\n",
       "      <td>False</td>\n",
       "      <td>3.6</td>\n",
       "      <td>BTM</td>\n",
       "      <td>Juices</td>\n",
       "      <td>200.0</td>\n",
       "      <td>rated 40 ratedn good ambience pretty little pl...</td>\n",
       "      <td>Koramangala 5th Block</td>\n",
       "      <td>3.32</td>\n",
       "    </tr>\n",
       "    <tr>\n",
       "      <th>21639</th>\n",
       "      <td>Haagen Dazs</td>\n",
       "      <td>True</td>\n",
       "      <td>False</td>\n",
       "      <td>3.9</td>\n",
       "      <td>Koramangala 7th Block</td>\n",
       "      <td>Ice Cream, Desserts</td>\n",
       "      <td>800.0</td>\n",
       "      <td>rated 30 ratedn long time paid visit haagen da...</td>\n",
       "      <td>Koramangala 4th Block</td>\n",
       "      <td>3.71</td>\n",
       "    </tr>\n",
       "  </tbody>\n",
       "</table>\n",
       "<p>16495 rows × 10 columns</p>\n",
       "</div>"
      ],
      "text/plain": [
       "                         name online_order book_table  rate  \\\n",
       "18144      Hearts Unlock Cafe        False      False   3.2   \n",
       "11399  Basveshwara Khaanavali        False      False   3.5   \n",
       "31506         The Banana Kick         True      False   3.3   \n",
       "28424            Tomago Roast         True      False   3.5   \n",
       "28537            Brewz Coffee         True      False   3.0   \n",
       "...                       ...          ...        ...   ...   \n",
       "16208             Royal Paris         True      False   3.9   \n",
       "37202      O.G. Variar & Sons        False      False   4.8   \n",
       "33938    Ayda Persian Kitchen         True      False   3.9   \n",
       "23693                Aliensip         True      False   3.6   \n",
       "21639             Haagen Dazs         True      False   3.9   \n",
       "\n",
       "                    location                        cuisines    cost  \\\n",
       "18144                    BTM              Cafe, Healthy Food   500.0   \n",
       "11399        Electronic City                    South Indian   150.0   \n",
       "31506           New BEL Road                 Cafe, Beverages   600.0   \n",
       "28424                    BTM            Fast Food, Beverages   400.0   \n",
       "28537                    BTM                            Cafe   650.0   \n",
       "...                      ...                             ...     ...   \n",
       "16208                    BTM  North Indian, Arabian, Chinese  1000.0   \n",
       "37202            Rajajinagar                Bakery, Desserts   200.0   \n",
       "33938          Church Street           North Indian, Iranian   950.0   \n",
       "23693                    BTM                          Juices   200.0   \n",
       "21639  Koramangala 7th Block             Ice Cream, Desserts   800.0   \n",
       "\n",
       "                                            reviews_list  \\\n",
       "18144  rated 25 ratedn nice place hookah peaceful go ...   \n",
       "11399  rated 40 ratedn wanna taste jowar roti masala ...   \n",
       "31506  rated 10 ratedn food tastelessnot place visit ...   \n",
       "28424  rated 50 ratedn first change ordered food rest...   \n",
       "28537  rated 40 ratedn brewz coffee afternoon lovely ...   \n",
       "...                                                  ...   \n",
       "16208  rated 40 ratedn located convenient street amid...   \n",
       "37202  rated 50 ratedn place legacy moved delhi banga...   \n",
       "33938  rated 30 ratedn ambience decent persian one wo...   \n",
       "23693  rated 40 ratedn good ambience pretty little pl...   \n",
       "21639  rated 30 ratedn long time paid visit haagen da...   \n",
       "\n",
       "                        city  Mean Rating  \n",
       "18144               JP Nagar         2.80  \n",
       "11399        Electronic City         3.19  \n",
       "31506           Malleshwaram         2.94  \n",
       "28424  Koramangala 7th Block         3.19  \n",
       "28537  Koramangala 7th Block         2.59  \n",
       "...                      ...          ...  \n",
       "16208              Jayanagar         3.64  \n",
       "37202            Rajajinagar         4.87  \n",
       "33938                MG Road         3.65  \n",
       "23693  Koramangala 5th Block         3.32  \n",
       "21639  Koramangala 4th Block         3.71  \n",
       "\n",
       "[16495 rows x 10 columns]"
      ]
     },
     "execution_count": 30,
     "metadata": {},
     "output_type": "execute_result"
    }
   ],
   "source": [
    "df_percent"
   ]
  },
  {
   "cell_type": "code",
   "execution_count": 31,
   "metadata": {},
   "outputs": [],
   "source": [
    "df_percent.set_index(\"name\",inplace=True)"
   ]
  },
  {
   "cell_type": "code",
   "execution_count": 32,
   "metadata": {},
   "outputs": [
    {
     "data": {
      "text/html": [
       "<div>\n",
       "<style scoped>\n",
       "    .dataframe tbody tr th:only-of-type {\n",
       "        vertical-align: middle;\n",
       "    }\n",
       "\n",
       "    .dataframe tbody tr th {\n",
       "        vertical-align: top;\n",
       "    }\n",
       "\n",
       "    .dataframe thead th {\n",
       "        text-align: right;\n",
       "    }\n",
       "</style>\n",
       "<table border=\"1\" class=\"dataframe\">\n",
       "  <thead>\n",
       "    <tr style=\"text-align: right;\">\n",
       "      <th></th>\n",
       "      <th>online_order</th>\n",
       "      <th>book_table</th>\n",
       "      <th>rate</th>\n",
       "      <th>location</th>\n",
       "      <th>cuisines</th>\n",
       "      <th>cost</th>\n",
       "      <th>reviews_list</th>\n",
       "      <th>city</th>\n",
       "      <th>Mean Rating</th>\n",
       "    </tr>\n",
       "    <tr>\n",
       "      <th>name</th>\n",
       "      <th></th>\n",
       "      <th></th>\n",
       "      <th></th>\n",
       "      <th></th>\n",
       "      <th></th>\n",
       "      <th></th>\n",
       "      <th></th>\n",
       "      <th></th>\n",
       "      <th></th>\n",
       "    </tr>\n",
       "  </thead>\n",
       "  <tbody>\n",
       "    <tr>\n",
       "      <th>Hearts Unlock Cafe</th>\n",
       "      <td>False</td>\n",
       "      <td>False</td>\n",
       "      <td>3.2</td>\n",
       "      <td>BTM</td>\n",
       "      <td>Cafe, Healthy Food</td>\n",
       "      <td>500.0</td>\n",
       "      <td>rated 25 ratedn nice place hookah peaceful go ...</td>\n",
       "      <td>JP Nagar</td>\n",
       "      <td>2.80</td>\n",
       "    </tr>\n",
       "    <tr>\n",
       "      <th>Basveshwara Khaanavali</th>\n",
       "      <td>False</td>\n",
       "      <td>False</td>\n",
       "      <td>3.5</td>\n",
       "      <td>Electronic City</td>\n",
       "      <td>South Indian</td>\n",
       "      <td>150.0</td>\n",
       "      <td>rated 40 ratedn wanna taste jowar roti masala ...</td>\n",
       "      <td>Electronic City</td>\n",
       "      <td>3.19</td>\n",
       "    </tr>\n",
       "    <tr>\n",
       "      <th>The Banana Kick</th>\n",
       "      <td>True</td>\n",
       "      <td>False</td>\n",
       "      <td>3.3</td>\n",
       "      <td>New BEL Road</td>\n",
       "      <td>Cafe, Beverages</td>\n",
       "      <td>600.0</td>\n",
       "      <td>rated 10 ratedn food tastelessnot place visit ...</td>\n",
       "      <td>Malleshwaram</td>\n",
       "      <td>2.94</td>\n",
       "    </tr>\n",
       "    <tr>\n",
       "      <th>Tomago Roast</th>\n",
       "      <td>True</td>\n",
       "      <td>False</td>\n",
       "      <td>3.5</td>\n",
       "      <td>BTM</td>\n",
       "      <td>Fast Food, Beverages</td>\n",
       "      <td>400.0</td>\n",
       "      <td>rated 50 ratedn first change ordered food rest...</td>\n",
       "      <td>Koramangala 7th Block</td>\n",
       "      <td>3.19</td>\n",
       "    </tr>\n",
       "    <tr>\n",
       "      <th>Brewz Coffee</th>\n",
       "      <td>True</td>\n",
       "      <td>False</td>\n",
       "      <td>3.0</td>\n",
       "      <td>BTM</td>\n",
       "      <td>Cafe</td>\n",
       "      <td>650.0</td>\n",
       "      <td>rated 40 ratedn brewz coffee afternoon lovely ...</td>\n",
       "      <td>Koramangala 7th Block</td>\n",
       "      <td>2.59</td>\n",
       "    </tr>\n",
       "  </tbody>\n",
       "</table>\n",
       "</div>"
      ],
      "text/plain": [
       "                       online_order book_table  rate         location  \\\n",
       "name                                                                    \n",
       "Hearts Unlock Cafe            False      False   3.2              BTM   \n",
       "Basveshwara Khaanavali        False      False   3.5  Electronic City   \n",
       "The Banana Kick                True      False   3.3     New BEL Road   \n",
       "Tomago Roast                   True      False   3.5              BTM   \n",
       "Brewz Coffee                   True      False   3.0              BTM   \n",
       "\n",
       "                                    cuisines   cost  \\\n",
       "name                                                  \n",
       "Hearts Unlock Cafe        Cafe, Healthy Food  500.0   \n",
       "Basveshwara Khaanavali          South Indian  150.0   \n",
       "The Banana Kick              Cafe, Beverages  600.0   \n",
       "Tomago Roast            Fast Food, Beverages  400.0   \n",
       "Brewz Coffee                            Cafe  650.0   \n",
       "\n",
       "                                                             reviews_list  \\\n",
       "name                                                                        \n",
       "Hearts Unlock Cafe      rated 25 ratedn nice place hookah peaceful go ...   \n",
       "Basveshwara Khaanavali  rated 40 ratedn wanna taste jowar roti masala ...   \n",
       "The Banana Kick         rated 10 ratedn food tastelessnot place visit ...   \n",
       "Tomago Roast            rated 50 ratedn first change ordered food rest...   \n",
       "Brewz Coffee            rated 40 ratedn brewz coffee afternoon lovely ...   \n",
       "\n",
       "                                         city  Mean Rating  \n",
       "name                                                        \n",
       "Hearts Unlock Cafe                   JP Nagar         2.80  \n",
       "Basveshwara Khaanavali        Electronic City         3.19  \n",
       "The Banana Kick                  Malleshwaram         2.94  \n",
       "Tomago Roast            Koramangala 7th Block         3.19  \n",
       "Brewz Coffee            Koramangala 7th Block         2.59  "
      ]
     },
     "execution_count": 32,
     "metadata": {},
     "output_type": "execute_result"
    }
   ],
   "source": [
    "df_percent.head()\r\n"
   ]
  },
  {
   "cell_type": "code",
   "execution_count": 33,
   "metadata": {},
   "outputs": [],
   "source": [
    "indices = pd.Series(df_percent.index)"
   ]
  },
  {
   "cell_type": "code",
   "execution_count": 34,
   "metadata": {},
   "outputs": [
    {
     "data": {
      "text/plain": [
       "0            Hearts Unlock Cafe\n",
       "1        Basveshwara Khaanavali\n",
       "2               The Banana Kick\n",
       "3                  Tomago Roast\n",
       "4                  Brewz Coffee\n",
       "                  ...          \n",
       "16490               Royal Paris\n",
       "16491        O.G. Variar & Sons\n",
       "16492      Ayda Persian Kitchen\n",
       "16493                  Aliensip\n",
       "16494               Haagen Dazs\n",
       "Name: name, Length: 16495, dtype: object"
      ]
     },
     "execution_count": 34,
     "metadata": {},
     "output_type": "execute_result"
    }
   ],
   "source": [
    "indices"
   ]
  },
  {
   "cell_type": "code",
   "execution_count": 35,
   "metadata": {},
   "outputs": [],
   "source": [
    "from sklearn.feature_extraction.text import TfidfVectorizer\r\n",
    "from sklearn.metrics.pairwise import linear_kernel\r\n",
    "\r\n",
    "tfidf = TfidfVectorizer(analyzer=\"word\",ngram_range=(1,2),stop_words=\"english\",min_df=0)\r\n",
    "tfidf_metrix = tfidf.fit_transform(df_percent[\"reviews_list\"])\r\n",
    "\r\n",
    "\r\n",
    "cosine_similarities = linear_kernel(tfidf_metrix,tfidf_metrix)\r\n"
   ]
  },
  {
   "cell_type": "code",
   "execution_count": 36,
   "metadata": {},
   "outputs": [
    {
     "data": {
      "text/plain": [
       "array([[1.        , 0.02685618, 0.01995098, ..., 0.02623784, 0.01155987,\n",
       "        0.02379743],\n",
       "       [0.02685618, 1.        , 0.01254856, ..., 0.05330345, 0.00768422,\n",
       "        0.02397071],\n",
       "       [0.01995098, 0.01254856, 1.        , ..., 0.00793905, 0.00582245,\n",
       "        0.00554657],\n",
       "       ...,\n",
       "       [0.02623784, 0.05330345, 0.00793905, ..., 1.        , 0.01315474,\n",
       "        0.04653498],\n",
       "       [0.01155987, 0.00768422, 0.00582245, ..., 0.01315474, 1.        ,\n",
       "        0.01382258],\n",
       "       [0.02379743, 0.02397071, 0.00554657, ..., 0.04653498, 0.01382258,\n",
       "        1.        ]])"
      ]
     },
     "execution_count": 36,
     "metadata": {},
     "output_type": "execute_result"
    }
   ],
   "source": [
    "cosine_similarities"
   ]
  },
  {
   "cell_type": "code",
   "execution_count": 48,
   "metadata": {},
   "outputs": [],
   "source": [
    "def recomended(name, cosine_similarities=cosine_similarities):\r\n",
    "\r\n",
    "    recommended_restaurant = []\r\n",
    "\r\n",
    "    idx = indices[indices == name].index[0]\r\n",
    "\r\n",
    "    score_series = pd.Series(cosine_similarities[idx]).sort_values(ascending=False)\r\n",
    "\r\n",
    "    top_30_indexex = score_series.iloc[0:31].index\r\n",
    "\r\n",
    "    for i in top_30_indexex:\r\n",
    "        recommended_restaurant.append(list(df_percent.index)[i])\r\n",
    "\r\n",
    "    df_new = pd.DataFrame(columns=['cuisines', 'Mean Rating', 'cost'])\r\n",
    "\r\n",
    "    for i in recommended_restaurant:\r\n",
    "        df_new = df_new.append(pd.DataFrame(df_percent[['cuisines', 'Mean Rating', 'cost']][df_percent.index == i].sample()))\r\n",
    "\r\n",
    "    df_new = df_new.drop_duplicates(subset=['cuisines', 'Mean Rating', 'cost'],keep=False)\r\n",
    "    df_new = df_new.sort_values(by=\"Mean Rating\",ascending=False).head(10)\r\n",
    "\r\n",
    "    return df_new\r\n"
   ]
  },
  {
   "cell_type": "code",
   "execution_count": 51,
   "metadata": {},
   "outputs": [
    {
     "data": {
      "text/html": [
       "<div>\n",
       "<style scoped>\n",
       "    .dataframe tbody tr th:only-of-type {\n",
       "        vertical-align: middle;\n",
       "    }\n",
       "\n",
       "    .dataframe tbody tr th {\n",
       "        vertical-align: top;\n",
       "    }\n",
       "\n",
       "    .dataframe thead th {\n",
       "        text-align: right;\n",
       "    }\n",
       "</style>\n",
       "<table border=\"1\" class=\"dataframe\">\n",
       "  <thead>\n",
       "    <tr style=\"text-align: right;\">\n",
       "      <th></th>\n",
       "      <th>cuisines</th>\n",
       "      <th>Mean Rating</th>\n",
       "      <th>cost</th>\n",
       "    </tr>\n",
       "  </thead>\n",
       "  <tbody>\n",
       "    <tr>\n",
       "      <th>Brahmin'S Coffee Bar</th>\n",
       "      <td>South Indian</td>\n",
       "      <td>4.29</td>\n",
       "      <td>250.0</td>\n",
       "    </tr>\n",
       "    <tr>\n",
       "      <th>A Hole Lotta Love Cafe</th>\n",
       "      <td>Cafe, American, Burger, Sandwich, Beverages</td>\n",
       "      <td>4.29</td>\n",
       "      <td>600.0</td>\n",
       "    </tr>\n",
       "    <tr>\n",
       "      <th>Asha Tiffins</th>\n",
       "      <td>South Indian</td>\n",
       "      <td>4.23</td>\n",
       "      <td>150.0</td>\n",
       "    </tr>\n",
       "    <tr>\n",
       "      <th>Coffee Mechanics</th>\n",
       "      <td>Cafe, Bakery, French, Jewish, Sandwich, Vegan,...</td>\n",
       "      <td>4.23</td>\n",
       "      <td>700.0</td>\n",
       "    </tr>\n",
       "    <tr>\n",
       "      <th>Dreams Cafe - All Day English Food St.</th>\n",
       "      <td>Cafe, Continental, Burger</td>\n",
       "      <td>3.58</td>\n",
       "      <td>600.0</td>\n",
       "    </tr>\n",
       "    <tr>\n",
       "      <th>Sri Devi Cafe</th>\n",
       "      <td>South Indian, Chinese</td>\n",
       "      <td>3.45</td>\n",
       "      <td>200.0</td>\n",
       "    </tr>\n",
       "    <tr>\n",
       "      <th>Sri Venkateshwar Bhavan</th>\n",
       "      <td>South Indian, Chinese, Seafood</td>\n",
       "      <td>3.19</td>\n",
       "      <td>200.0</td>\n",
       "    </tr>\n",
       "    <tr>\n",
       "      <th>Cafe Coffee Day</th>\n",
       "      <td>Cafe, Fast Food</td>\n",
       "      <td>2.88</td>\n",
       "      <td>900.0</td>\n",
       "    </tr>\n",
       "  </tbody>\n",
       "</table>\n",
       "</div>"
      ],
      "text/plain": [
       "                                                                                 cuisines  \\\n",
       "Brahmin'S Coffee Bar                                                         South Indian   \n",
       "A Hole Lotta Love Cafe                        Cafe, American, Burger, Sandwich, Beverages   \n",
       "Asha Tiffins                                                                 South Indian   \n",
       "Coffee Mechanics                        Cafe, Bakery, French, Jewish, Sandwich, Vegan,...   \n",
       "Dreams Cafe - All Day English Food St.                          Cafe, Continental, Burger   \n",
       "Sri Devi Cafe                                                       South Indian, Chinese   \n",
       "Sri Venkateshwar Bhavan                                    South Indian, Chinese, Seafood   \n",
       "Cafe Coffee Day                                                           Cafe, Fast Food   \n",
       "\n",
       "                                        Mean Rating   cost  \n",
       "Brahmin'S Coffee Bar                           4.29  250.0  \n",
       "A Hole Lotta Love Cafe                         4.29  600.0  \n",
       "Asha Tiffins                                   4.23  150.0  \n",
       "Coffee Mechanics                               4.23  700.0  \n",
       "Dreams Cafe - All Day English Food St.         3.58  600.0  \n",
       "Sri Devi Cafe                                  3.45  200.0  \n",
       "Sri Venkateshwar Bhavan                        3.19  200.0  \n",
       "Cafe Coffee Day                                2.88  900.0  "
      ]
     },
     "execution_count": 51,
     "metadata": {},
     "output_type": "execute_result"
    }
   ],
   "source": [
    "recomended(\"Container Coffee\")\r\n"
   ]
  },
  {
   "cell_type": "code",
   "execution_count": null,
   "metadata": {},
   "outputs": [],
   "source": []
  }
 ],
 "metadata": {
  "interpreter": {
   "hash": "4bf5ffbeb8bb60b501bd370f4f30f4e42d71afa6b8bb033ca8128ca692dcec38"
  },
  "kernelspec": {
   "display_name": "Python 3.8.1 64-bit",
   "name": "python3"
  },
  "language_info": {
   "codemirror_mode": {
    "name": "ipython",
    "version": 3
   },
   "file_extension": ".py",
   "mimetype": "text/x-python",
   "name": "python",
   "nbconvert_exporter": "python",
   "pygments_lexer": "ipython3",
   "version": "3.8.1"
  },
  "orig_nbformat": 4
 },
 "nbformat": 4,
 "nbformat_minor": 2
}